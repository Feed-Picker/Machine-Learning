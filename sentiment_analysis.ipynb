{
  "cells": [
    {
      "cell_type": "code",
      "execution_count": null,
      "metadata": {
        "colab": {
          "base_uri": "https://localhost:8080/"
        },
        "id": "psCbQzIzmhJE",
        "outputId": "d173b030-7764-44a8-d0a1-1ada774893cb"
      },
      "outputs": [
        {
          "output_type": "stream",
          "name": "stdout",
          "text": [
            "Mounted at /content/drive\n"
          ]
        }
      ],
      "source": [
        "# Mount Google Drive\n",
        "from google.colab import drive\n",
        "drive.mount('/content/drive')"
      ]
    },
    {
      "cell_type": "code",
      "execution_count": null,
      "metadata": {
        "colab": {
          "base_uri": "https://localhost:8080/"
        },
        "id": "lmZaK5kCmkHt",
        "outputId": "78837f37-1546-4816-ce69-21ee1ed6e78a"
      },
      "outputs": [
        {
          "output_type": "stream",
          "name": "stderr",
          "text": [
            "[nltk_data] Downloading package stopwords to /root/nltk_data...\n",
            "[nltk_data]   Unzipping corpora/stopwords.zip.\n"
          ]
        },
        {
          "output_type": "execute_result",
          "data": {
            "text/plain": [
              "True"
            ]
          },
          "metadata": {},
          "execution_count": 2
        }
      ],
      "source": [
        "import nltk\n",
        "nltk.download('stopwords')"
      ]
    },
    {
      "cell_type": "code",
      "execution_count": null,
      "metadata": {
        "colab": {
          "base_uri": "https://localhost:8080/",
          "height": 1000
        },
        "id": "MO2u71yzAsqr",
        "outputId": "142a48f1-921d-4b9b-8600-ec9b35f0c49d"
      },
      "outputs": [
        {
          "output_type": "stream",
          "name": "stderr",
          "text": [
            "<ipython-input-15-377480755519>:36: VisibleDeprecationWarning: Creating an ndarray from ragged nested sequences (which is a list-or-tuple of lists-or-tuples-or ndarrays with different lengths or shapes) is deprecated. If you meant to do this, you must specify 'dtype=object' when creating the ndarray.\n",
            "  text_sequences = np.array(tokenizer.texts_to_sequences(mpermanent['clean_sentences']))\n"
          ]
        },
        {
          "output_type": "stream",
          "name": "stdout",
          "text": [
            "Epoch 1/15\n",
            "138/138 [==============================] - 22s 123ms/step - loss: 0.6015 - accuracy: 0.8325 - val_loss: 0.5118 - val_accuracy: 0.8392\n",
            "Epoch 2/15\n",
            "138/138 [==============================] - 15s 107ms/step - loss: 0.4440 - accuracy: 0.8575 - val_loss: 0.4784 - val_accuracy: 0.8440\n",
            "Epoch 3/15\n",
            "138/138 [==============================] - 15s 109ms/step - loss: 0.3349 - accuracy: 0.8817 - val_loss: 0.5110 - val_accuracy: 0.8403\n",
            "Epoch 4/15\n",
            "138/138 [==============================] - 14s 98ms/step - loss: 0.2713 - accuracy: 0.9020 - val_loss: 0.6122 - val_accuracy: 0.8254\n",
            "Epoch 5/15\n",
            "138/138 [==============================] - 14s 104ms/step - loss: 0.2438 - accuracy: 0.9122 - val_loss: 0.6918 - val_accuracy: 0.7907\n",
            "Epoch 6/15\n",
            "138/138 [==============================] - 15s 108ms/step - loss: 0.2043 - accuracy: 0.9295 - val_loss: 0.7245 - val_accuracy: 0.8143\n",
            "Epoch 7/15\n",
            "138/138 [==============================] - 15s 106ms/step - loss: 0.1677 - accuracy: 0.9437 - val_loss: 0.6969 - val_accuracy: 0.8034\n",
            "Epoch 8/15\n",
            "138/138 [==============================] - 15s 107ms/step - loss: 0.1421 - accuracy: 0.9519 - val_loss: 0.8577 - val_accuracy: 0.7832\n",
            "Epoch 9/15\n",
            "138/138 [==============================] - 15s 107ms/step - loss: 0.1267 - accuracy: 0.9574 - val_loss: 0.8868 - val_accuracy: 0.7883\n",
            "Epoch 10/15\n",
            "138/138 [==============================] - 16s 117ms/step - loss: 0.1144 - accuracy: 0.9614 - val_loss: 0.9298 - val_accuracy: 0.8124\n",
            "Epoch 11/15\n",
            "138/138 [==============================] - 16s 115ms/step - loss: 0.1048 - accuracy: 0.9660 - val_loss: 1.0188 - val_accuracy: 0.7782\n",
            "Epoch 12/15\n",
            "138/138 [==============================] - 15s 107ms/step - loss: 0.1000 - accuracy: 0.9650 - val_loss: 1.0600 - val_accuracy: 0.7869\n",
            "Epoch 13/15\n",
            "138/138 [==============================] - 13s 97ms/step - loss: 0.0934 - accuracy: 0.9690 - val_loss: 1.0274 - val_accuracy: 0.7986\n",
            "Epoch 14/15\n",
            "138/138 [==============================] - 13s 96ms/step - loss: 0.0918 - accuracy: 0.9697 - val_loss: 1.0461 - val_accuracy: 0.7907\n",
            "Epoch 15/15\n",
            "138/138 [==============================] - 16s 116ms/step - loss: 0.0807 - accuracy: 0.9725 - val_loss: 1.1198 - val_accuracy: 0.8015\n",
            "118/118 [==============================] - 3s 15ms/step\n",
            "\n",
            "Classification Report:\n",
            "              precision    recall  f1-score   support\n",
            "\n",
            "           0       0.33      0.30      0.32       356\n",
            "           1       0.26      0.20      0.22       256\n",
            "           2       0.88      0.91      0.89      3157\n",
            "\n",
            "    accuracy                           0.80      3769\n",
            "   macro avg       0.49      0.47      0.48      3769\n",
            "weighted avg       0.79      0.80      0.79      3769\n",
            "\n",
            "\n",
            "Sum of Actual Data Based on Class:\n",
            "Positive    3157\n",
            "Negative     356\n",
            "Neutral      256\n",
            "Name: Actual_Label, dtype: int64\n",
            "\n",
            "Sum of Predicted Data Based on Class:\n",
            "Positive    3249\n",
            "Negative     324\n",
            "Neutral      196\n",
            "Name: Predicted_Label, dtype: int64\n",
            "Final Accuracy: 80.15%\n"
          ]
        },
        {
          "output_type": "display_data",
          "data": {
            "text/plain": [
              "<Figure size 800x600 with 2 Axes>"
            ],
            "image/png": "[encoded data removed]"
          },
          "metadata": {}
        }
      ],
      "source": [
        "import numpy as np\n",
        "import pandas as pd\n",
        "import string\n",
        "from nltk.corpus import stopwords\n",
        "from keras.preprocessing.text import Tokenizer\n",
        "from keras.preprocessing.sequence import pad_sequences\n",
        "from keras.models import Sequential\n",
        "from keras.layers import Embedding, LSTM, Dense, Dropout\n",
        "from keras.optimizers import Adam\n",
        "from sklearn.model_selection import train_test_split\n",
        "from sklearn.metrics import confusion_matrix, classification_report, accuracy_score\n",
        "import seaborn as sns\n",
        "import matplotlib.pyplot as plt\n",
        "\n",
        "# Read the dataset\n",
        "data = pd.read_csv(\"/content/drive/My Drive/fix_data_preprocesing.csv\")\n",
        "\n",
        "# Extract relevant columns\n",
        "mpermanent = data[['Review', 'Hasil Perbandingan']]  # Assuming 'Hasil Perbandingan' contains 'Positive', 'Negative', 'Neutral'\n",
        "\n",
        "# Process the text data\n",
        "def text_process(text):\n",
        "    nopunc = [char for char in text if char not in string.punctuation]\n",
        "    nopunc = ''.join(nopunc)\n",
        "    return [word.lower() for word in nopunc.split() if word.lower() not in stopwords.words('english')]\n",
        "\n",
        "# Apply text processing to the 'Review' column\n",
        "mpermanent['clean_review'] = mpermanent['Review'].apply(text_process)\n",
        "\n",
        "# Join the processed words into sentences\n",
        "mpermanent['clean_sentences'] = mpermanent['clean_review'].apply(lambda x: ' '.join(x))\n",
        "\n",
        "# Keras Tokenizer\n",
        "tokenizer = Tokenizer()\n",
        "tokenizer.fit_on_texts(mpermanent['clean_sentences'])\n",
        "text_sequences = np.array(tokenizer.texts_to_sequences(mpermanent['clean_sentences']))\n",
        "sequence_dict = tokenizer.word_index\n",
        "\n",
        "# Encode labels\n",
        "labels = mpermanent['Hasil Perbandingan']\n",
        "label_mapping = {'Positive': 2, 'Negative': 0, 'Neutral': 1}  # Mapping labels to integers\n",
        "Y = np.array([label_mapping[label] for label in labels])\n",
        "\n",
        "# Pad sequences\n",
        "max_cap = 20\n",
        "X = pad_sequences(text_sequences, maxlen=max_cap)\n",
        "\n",
        "# Split the data into train, dev, and test sets\n",
        "X_train, X_test, y_train, y_test = train_test_split(X, Y, test_size=0.3, random_state=101)\n",
        "\n",
        "# Build the LSTM model\n",
        "embedding_dim = 50\n",
        "model = Sequential()\n",
        "model.add(Embedding(len(sequence_dict) + 1, embedding_dim, input_length=max_cap))\n",
        "model.add(LSTM(128, return_sequences=True))\n",
        "model.add(LSTM(64, return_sequences=False))\n",
        "model.add(Dense(64, activation='relu'))\n",
        "model.add(Dropout(0.5))\n",
        "model.add(Dense(3, activation='softmax'))\n",
        "\n",
        "# Compile the model\n",
        "optimizer = Adam(learning_rate=0.001)\n",
        "model.compile(loss='sparse_categorical_crossentropy', optimizer=optimizer, metrics=['accuracy'])\n",
        "\n",
        "# Train the model\n",
        "history = model.fit(X_train, y_train, batch_size=64, epochs=15, validation_data=(X_test, y_test))\n",
        "\n",
        "# Evaluate the model\n",
        "y_pred_probs = model.predict(X_test)\n",
        "y_pred = np.argmax(y_pred_probs, axis=1)\n",
        "\n",
        "# Display actual vs predicted results\n",
        "results_df = pd.DataFrame({'Actual': y_test, 'Predicted': y_pred})\n",
        "results_df['Actual_Label'] = results_df['Actual'].map({0: 'Negative', 1: 'Neutral', 2: 'Positive'})\n",
        "results_df['Predicted_Label'] = results_df['Predicted'].map({0: 'Negative', 1: 'Neutral', 2: 'Positive'})\n",
        "\n",
        "# Display classification report\n",
        "print(\"\\nClassification Report:\")\n",
        "print(classification_report(y_test, y_pred))\n",
        "\n",
        "# Display counts of actual classes and predicted classes\n",
        "actual_counts = results_df['Actual_Label'].value_counts()\n",
        "predicted_counts = results_df['Predicted_Label'].value_counts()\n",
        "\n",
        "# Display sum of actual and predicted data based on its class\n",
        "print(\"\\nSum of Actual Data Based on Class:\")\n",
        "print(actual_counts)\n",
        "\n",
        "print(\"\\nSum of Predicted Data Based on Class:\")\n",
        "print(predicted_counts)\n",
        "\n",
        "# Display final accuracy\n",
        "accuracy = accuracy_score(y_test, y_pred)\n",
        "print(f\"Final Accuracy: {accuracy * 100:.2f}%\")\n",
        "\n",
        "# Display confusion matrix\n",
        "conf_mat = confusion_matrix(y_test, y_pred)\n",
        "plt.figure(figsize=(8, 6))\n",
        "sns.heatmap(conf_mat, annot=True, fmt='d', cmap='Blues', xticklabels=['Negative', 'Neutral', 'Positive'], yticklabels=['Negative', 'Neutral', 'Positive'])\n",
        "plt.xlabel('Predicted')\n",
        "plt.ylabel('Actual')\n",
        "plt.title('Confusion Matrix')\n",
        "plt.show()\n"
      ]
    }
  ],
  "metadata": {
    "colab": {
      "provenance": []
    },
    "kernelspec": {
      "display_name": "Python 3",
      "name": "python3"
    },
    "language_info": {
      "name": "python"
    }
  },
  "nbformat": 4,
  "nbformat_minor": 0
}